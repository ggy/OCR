{
 "metadata": {
  "name": "",
  "signature": "sha256:dd3070df83ab628d5a867396b3d30db4fc7e2d2568b7458c4a30150e92aaf308"
 },
 "nbformat": 3,
 "nbformat_minor": 0,
 "worksheets": [
  {
   "cells": [
    {
     "cell_type": "code",
     "collapsed": false,
     "input": [
      "import numpy as np\n",
      "import cv2\n",
      "from matplotlib import pyplot as plt\n",
      "\n",
      "MIN_MATCH_COUNT = 10\n",
      "\n",
      "img1 = cv2.imread('/home/glagasse/Images/f2_272.jpg',0)          # queryImage\n",
      "img2 = cv2.imread('/home/glagasse/Images/Reference Bandeau 1.jpg',0) # trainImage\n",
      "\n",
      "# Initiate SIFT detector\n",
      "sift = cv2.SIFT()\n",
      "\n",
      "# find the keypoints and descriptors with SIFT\n",
      "kp1, des1 = sift.detectAndCompute(img1,None)\n",
      "kp2, des2 = sift.detectAndCompute(img2,None)\n",
      "\n",
      "FLANN_INDEX_KDTREE = 0\n",
      "index_params = dict(algorithm = FLANN_INDEX_KDTREE, trees = 5)\n",
      "search_params = dict(checks = 50)\n",
      "\n",
      "flann = cv2.FlannBasedMatcher(index_params, search_params)\n",
      "\n",
      "matches = flann.knnMatch(des1,des2,k=2)\n",
      "\n",
      "# store all the good matches as per Lowe's ratio test.\n",
      "good = []\n",
      "for m,n in matches:\n",
      "    if m.distance < 0.7*n.distance:\n",
      "        good.append(m)"
     ],
     "language": "python",
     "metadata": {},
     "outputs": [
      {
       "ename": "AttributeError",
       "evalue": "'module' object has no attribute 'SIFT'",
       "output_type": "pyerr",
       "traceback": [
        "\u001b[0;31m---------------------------------------------------------------------------\u001b[0m\n\u001b[0;31mAttributeError\u001b[0m                            Traceback (most recent call last)",
        "\u001b[0;32m<ipython-input-1-9ba6365c2ac5>\u001b[0m in \u001b[0;36m<module>\u001b[0;34m()\u001b[0m\n\u001b[1;32m      9\u001b[0m \u001b[0;34m\u001b[0m\u001b[0m\n\u001b[1;32m     10\u001b[0m \u001b[0;31m# Initiate SIFT detector\u001b[0m\u001b[0;34m\u001b[0m\u001b[0;34m\u001b[0m\u001b[0m\n\u001b[0;32m---> 11\u001b[0;31m \u001b[0msift\u001b[0m \u001b[0;34m=\u001b[0m \u001b[0mcv2\u001b[0m\u001b[0;34m.\u001b[0m\u001b[0mSIFT\u001b[0m\u001b[0;34m(\u001b[0m\u001b[0;34m)\u001b[0m\u001b[0;34m\u001b[0m\u001b[0m\n\u001b[0m\u001b[1;32m     12\u001b[0m \u001b[0;34m\u001b[0m\u001b[0m\n\u001b[1;32m     13\u001b[0m \u001b[0;31m# find the keypoints and descriptors with SIFT\u001b[0m\u001b[0;34m\u001b[0m\u001b[0;34m\u001b[0m\u001b[0m\n",
        "\u001b[0;31mAttributeError\u001b[0m: 'module' object has no attribute 'SIFT'"
       ]
      }
     ],
     "prompt_number": 1
    },
    {
     "cell_type": "code",
     "collapsed": false,
     "input": [
      "import cv\n",
      "import cv2\n",
      "\n",
      "frame = cv.LoadImage('/home/glagasse/VAV_OCR/Images/Developpement/Exemple (1).jpg')\n",
      "frameHSV = cv.CreateImage(cv.GetSize(frame), 8, 3)\n",
      "\n",
      "img = cv2.imread('/home/glagasse/VAV_OCR/Images/Developpement/Exemple (1).jpg',0)   \n",
      "imgHSV = img\n",
      "Image = cv2.cvtColor(img, imgHSV, cv2.COLOR_BGR2HSV)"
     ],
     "language": "python",
     "metadata": {},
     "outputs": [
      {
       "ename": "TypeError",
       "evalue": "only length-1 arrays can be converted to Python scalars",
       "output_type": "pyerr",
       "traceback": [
        "\u001b[0;31m---------------------------------------------------------------------------\u001b[0m\n\u001b[0;31mTypeError\u001b[0m                                 Traceback (most recent call last)",
        "\u001b[0;32m<ipython-input-3-d7d3c19aa926>\u001b[0m in \u001b[0;36m<module>\u001b[0;34m()\u001b[0m\n\u001b[1;32m      7\u001b[0m \u001b[0mimg\u001b[0m \u001b[0;34m=\u001b[0m \u001b[0mcv2\u001b[0m\u001b[0;34m.\u001b[0m\u001b[0mimread\u001b[0m\u001b[0;34m(\u001b[0m\u001b[0;34m'/home/glagasse/VAV_OCR/Images/Developpement/Exemple (1).jpg'\u001b[0m\u001b[0;34m,\u001b[0m\u001b[0;36m0\u001b[0m\u001b[0;34m)\u001b[0m\u001b[0;34m\u001b[0m\u001b[0m\n\u001b[1;32m      8\u001b[0m \u001b[0mimgHSV\u001b[0m \u001b[0;34m=\u001b[0m \u001b[0mimg\u001b[0m\u001b[0;34m\u001b[0m\u001b[0m\n\u001b[0;32m----> 9\u001b[0;31m \u001b[0mImage\u001b[0m \u001b[0;34m=\u001b[0m \u001b[0mcv2\u001b[0m\u001b[0;34m.\u001b[0m\u001b[0mcvtColor\u001b[0m\u001b[0;34m(\u001b[0m\u001b[0mimg\u001b[0m\u001b[0;34m,\u001b[0m \u001b[0mimgHSV\u001b[0m\u001b[0;34m,\u001b[0m \u001b[0mcv2\u001b[0m\u001b[0;34m.\u001b[0m\u001b[0mCOLOR_BGR2HSV\u001b[0m\u001b[0;34m)\u001b[0m\u001b[0;34m\u001b[0m\u001b[0m\n\u001b[0m",
        "\u001b[0;31mTypeError\u001b[0m: only length-1 arrays can be converted to Python scalars"
       ]
      }
     ],
     "prompt_number": 3
    },
    {
     "cell_type": "code",
     "collapsed": false,
     "input": [
      "import cv\n",
      "\n",
      "in_image = '/home/glagasse/Images/testCCiTele_1786.jpg'\n",
      "out_image = '/home/glagasse/Images/kaffee_out.png'\n",
      "out_image_thr = '/home/glagasse/Images/kaffee_thr.png'\n",
      "\n",
      "ORANGE_MIN = cv.Scalar(0, 255, 255)\n",
      "ORANGE_MAX = cv.Scalar(255, 255, 255)\n",
      "COLOR_MIN = ORANGE_MIN\n",
      "COLOR_MAX = ORANGE_MAX\n",
      "\n",
      "def test1():\n",
      "    frame = cv.LoadImage(in_image)\n",
      "    frameHSV = cv.CreateImage(cv.GetSize(frame), 8, 3)\n",
      "    cv.CvtColor(frame, frameHSV, cv.CV_RGB2HSV)\n",
      "    frame_threshed = cv.CreateImage(cv.GetSize(frameHSV), 8, 1)\n",
      "    cv.InRangeS(frameHSV, COLOR_MIN, COLOR_MAX, frame_threshed)\n",
      "    cv.SaveImage(out_image_thr, frame_threshed)"
     ],
     "language": "python",
     "metadata": {},
     "outputs": [],
     "prompt_number": 3
    },
    {
     "cell_type": "code",
     "collapsed": false,
     "input": [
      "import cv2\n",
      "import numpy as np\n",
      "\n",
      "img = cv2.imread(in_image)\n",
      "\n",
      "ORANGE_MIN = np.array([0, 50, 205],np.uint8)\n",
      "ORANGE_MAX = np.array([15, 205, 255],np.uint8)\n",
      "\n",
      "\n",
      "hsv_img = cv2.cvtColor(img,cv2.COLOR_BGR2HSV)\n",
      "\n",
      "frame_threshed = cv2.inRange(hsv_img, ORANGE_MIN, ORANGE_MAX)\n",
      "cv2.imwrite('/home/glagasse/Images/output2.jpg', img)"
     ],
     "language": "python",
     "metadata": {},
     "outputs": [
      {
       "metadata": {},
       "output_type": "pyout",
       "prompt_number": 4,
       "text": [
        "True"
       ]
      }
     ],
     "prompt_number": 4
    },
    {
     "cell_type": "code",
     "collapsed": false,
     "input": [
      "frame_threshed"
     ],
     "language": "python",
     "metadata": {},
     "outputs": [
      {
       "metadata": {},
       "output_type": "pyout",
       "prompt_number": 5,
       "text": [
        "array([[0, 0, 0, ..., 0, 0, 0],\n",
        "       [0, 0, 0, ..., 0, 0, 0],\n",
        "       [0, 0, 0, ..., 0, 0, 0],\n",
        "       ..., \n",
        "       [0, 0, 0, ..., 0, 0, 0],\n",
        "       [0, 0, 0, ..., 0, 0, 0],\n",
        "       [0, 0, 0, ..., 0, 0, 0]], dtype=uint8)"
       ]
      }
     ],
     "prompt_number": 5
    },
    {
     "cell_type": "code",
     "collapsed": false,
     "input": [
      "contours, hierarchy = cv2.findContours(frame_threshed,cv2.RETR_TREE,cv2.CHAIN_APPROX_TC89_L1)"
     ],
     "language": "python",
     "metadata": {},
     "outputs": [],
     "prompt_number": 6
    },
    {
     "cell_type": "code",
     "collapsed": false,
     "input": [
      "cv2.drawContours(img, contours, -1, (0,255,0), 3)\n",
      "cv2.imwrite('/home/glagasse/Images/output3.jpg', frame_threshed)"
     ],
     "language": "python",
     "metadata": {},
     "outputs": [
      {
       "metadata": {},
       "output_type": "pyout",
       "prompt_number": 7,
       "text": [
        "True"
       ]
      }
     ],
     "prompt_number": 7
    },
    {
     "cell_type": "code",
     "collapsed": false,
     "input": [
      "plt.imshow(plt.imshow(image)\n",
      "plt.show())\n",
      "plt.show()"
     ],
     "language": "python",
     "metadata": {},
     "outputs": [],
     "prompt_number": 8
    },
    {
     "cell_type": "code",
     "collapsed": false,
     "input": [
      "import cv2\n",
      "import numpy as np\n",
      "\n",
      "img = cv2.imread('/home/glagasse/Images/testCCiTele_1786.jpg')\n",
      "gray= cv2.cvtColor(img,cv2.COLOR_BGR2GRAY)\n",
      "\n",
      "sift = cv2.SIFT()\n",
      "kp = sift.detect(gray,None)\n",
      "\n",
      "img=cv2.drawKeypoints(gray,kp)\n",
      "\n",
      "cv2.imwrite('sift_keypoints.jpg',img)"
     ],
     "language": "python",
     "metadata": {},
     "outputs": [
      {
       "ename": "AttributeError",
       "evalue": "'module' object has no attribute 'SIFT'",
       "output_type": "pyerr",
       "traceback": [
        "\u001b[1;31m---------------------------------------------------------------------------\u001b[0m\n\u001b[1;31mAttributeError\u001b[0m                            Traceback (most recent call last)",
        "\u001b[1;32m<ipython-input-1-14caf4f0a75a>\u001b[0m in \u001b[0;36m<module>\u001b[1;34m()\u001b[0m\n\u001b[0;32m      5\u001b[0m \u001b[0mgray\u001b[0m\u001b[1;33m=\u001b[0m \u001b[0mcv2\u001b[0m\u001b[1;33m.\u001b[0m\u001b[0mcvtColor\u001b[0m\u001b[1;33m(\u001b[0m\u001b[0mimg\u001b[0m\u001b[1;33m,\u001b[0m\u001b[0mcv2\u001b[0m\u001b[1;33m.\u001b[0m\u001b[0mCOLOR_BGR2GRAY\u001b[0m\u001b[1;33m)\u001b[0m\u001b[1;33m\u001b[0m\u001b[0m\n\u001b[0;32m      6\u001b[0m \u001b[1;33m\u001b[0m\u001b[0m\n\u001b[1;32m----> 7\u001b[1;33m \u001b[0msift\u001b[0m \u001b[1;33m=\u001b[0m \u001b[0mcv2\u001b[0m\u001b[1;33m.\u001b[0m\u001b[0mSIFT\u001b[0m\u001b[1;33m(\u001b[0m\u001b[1;33m)\u001b[0m\u001b[1;33m\u001b[0m\u001b[0m\n\u001b[0m\u001b[0;32m      8\u001b[0m \u001b[0mkp\u001b[0m \u001b[1;33m=\u001b[0m \u001b[0msift\u001b[0m\u001b[1;33m.\u001b[0m\u001b[0mdetect\u001b[0m\u001b[1;33m(\u001b[0m\u001b[0mgray\u001b[0m\u001b[1;33m,\u001b[0m\u001b[0mNone\u001b[0m\u001b[1;33m)\u001b[0m\u001b[1;33m\u001b[0m\u001b[0m\n\u001b[0;32m      9\u001b[0m \u001b[1;33m\u001b[0m\u001b[0m\n",
        "\u001b[1;31mAttributeError\u001b[0m: 'module' object has no attribute 'SIFT'"
       ]
      }
     ],
     "prompt_number": 1
    },
    {
     "cell_type": "code",
     "collapsed": false,
     "input": [
      "cv2.__version__"
     ],
     "language": "python",
     "metadata": {},
     "outputs": [
      {
       "metadata": {},
       "output_type": "pyout",
       "prompt_number": 3,
       "text": [
        "'2.4.9.1'"
       ]
      }
     ],
     "prompt_number": 3
    },
    {
     "cell_type": "code",
     "collapsed": false,
     "input": [],
     "language": "python",
     "metadata": {},
     "outputs": []
    }
   ],
   "metadata": {}
  }
 ]
}